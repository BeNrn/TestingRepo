{
 "cells": [
  {
   "cell_type": "markdown",
   "metadata": {},
   "source": [
    "# Numpy n-dimensionale Arrays"
   ]
  },
  {
   "cell_type": "code",
   "execution_count": 3,
   "metadata": {},
   "outputs": [],
   "source": [
    "import numpy as np"
   ]
  },
  {
   "cell_type": "markdown",
   "metadata": {},
   "source": [
    "Numpy kann mehrdimensionaleArrays erstellen. Dieses Dokument erläutert den Aufbau  undden Datenzugang."
   ]
  },
  {
   "cell_type": "markdown",
   "metadata": {},
   "source": [
    "### 1D Array\n",
    "Der 1D Array ist eine Aneinanderreihung von Zahlenwerten, die zwischen die \"[ ]\" geschrieben werden. Diese werden durch ein \",\" getrennt"
   ]
  },
  {
   "cell_type": "code",
   "execution_count": 5,
   "metadata": {},
   "outputs": [
    {
     "data": {
      "text/plain": [
       "array([2, 3])"
      ]
     },
     "execution_count": 5,
     "metadata": {},
     "output_type": "execute_result"
    }
   ],
   "source": [
    "OneDArray = np.array([2,3])\n",
    "OneDArray"
   ]
  },
  {
   "cell_type": "markdown",
   "metadata": {},
   "source": [
    "Die Werte können über ihre Position innerhalb der \"[ ]\" abgerufen werden. Die erste Position ist mit 0 indexiert."
   ]
  },
  {
   "cell_type": "code",
   "execution_count": 6,
   "metadata": {},
   "outputs": [
    {
     "data": {
      "text/plain": [
       "3"
      ]
     },
     "execution_count": 6,
     "metadata": {},
     "output_type": "execute_result"
    }
   ],
   "source": [
    "OneDArray[1]"
   ]
  },
  {
   "cell_type": "markdown",
   "metadata": {},
   "source": [
    "### 2D Arrays\n",
    "Die 2D Arrays setzten sich aus zwei 1D Arrays zusammen, welche hintereinander durch ein \", getrennt wiederum in \"[ ]\" gesetzt werden.  "
   ]
  },
  {
   "cell_type": "code",
   "execution_count": 7,
   "metadata": {},
   "outputs": [
    {
     "data": {
      "text/plain": [
       "array([[2, 3],\n",
       "       [4, 5]])"
      ]
     },
     "execution_count": 7,
     "metadata": {},
     "output_type": "execute_result"
    }
   ],
   "source": [
    "TwoDArray = np.array([[2,3],[4,5]])\n",
    "TwoDArray"
   ]
  },
  {
   "cell_type": "markdown",
   "metadata": {},
   "source": [
    "Die Werte müssen über ein zweistelliges Argument innerhalb der \"[ ]\" abgefragt werden. Diese Argumente werden wiederum mit einem \",\" getrennt, so dass eine Abfrage wie folg aussieht: [x,y]\n",
    "\n",
    "Das erste Element fragt die Reihe ab, das zweite die Spalte.[row,column]\n",
    "\n",
    "Wollen wir also die Nummer 4 abfragen wird das wie folgt gemacht (behalte im Hinterkopf, das die 0 die erste Stelle indexiert):"
   ]
  },
  {
   "cell_type": "code",
   "execution_count": 8,
   "metadata": {},
   "outputs": [
    {
     "data": {
      "text/plain": [
       "4"
      ]
     },
     "execution_count": 8,
     "metadata": {},
     "output_type": "execute_result"
    }
   ],
   "source": [
    "TwoDArray[1,0]"
   ]
  },
  {
   "cell_type": "markdown",
   "metadata": {},
   "source": [
    "### 3D Arrays\n",
    "Die 3D Arrays sind wiederum aus zwei 2D Arrays zusammengesetzt. Der Aufbau gleicht dem des vorhergehenden Schrittes, nur dass wir jetzt eine weitere Verschachtelung haben. Zur Veranschaulichung kann man sich zwei 2DTabellen vorstellen, die hintereinander angeordnet sind.\n",
    "\n",
    "1D: [1D,1D]\n",
    "\n",
    "2D: [2D,2D] ist das gleiche wie [[1D,1D],[1D,1D]]\n",
    "\n",
    "3D: [3D,3D] ist das gleiche wie [[2D,2D],[2D,2D]] ist das gleiche wie [[[1D,1D],[1D,1D]],[[1D,1D],[1D,1D]]]"
   ]
  },
  {
   "cell_type": "code",
   "execution_count": 9,
   "metadata": {},
   "outputs": [
    {
     "data": {
      "text/plain": [
       "array([[[2, 3],\n",
       "        [4, 5]],\n",
       "\n",
       "       [[6, 7],\n",
       "        [8, 9]]])"
      ]
     },
     "execution_count": 9,
     "metadata": {},
     "output_type": "execute_result"
    }
   ],
   "source": [
    "ThreeDArray = np.array([[[2,3],[4,5]],[[6,7],[8,9]]])\n",
    "ThreeDArray"
   ]
  },
  {
   "cell_type": "markdown",
   "metadata": {},
   "source": [
    "Der Zugriff ist etwas schlechter zu veranschaulichen. Am besten stellt man sich einen Würfel vor, der - wie im Beispiel - aus zwei Ebenen beseteht. Jede dieser beiden Ebenen besteht wiederum aus vier Elementen. Oder um es kürzer zu sagen, ein Würfel, der aus acht gleich großen kleineren Würfeln besteht.\n",
    "\n",
    "Die Abfrage ist wiederum ein dreiteiliges Element, innerhalb \"[ ]\", getrennt von \",\".\n",
    "\n",
    "Das erste Element steuert den Zugriff auf die zwei 3D Elemente. Das zweite Element steuert den Zugriff auf die Reihen innerhalb beider 3D Elemente und das dritte den Zugriff auf die Spalten innerhalb der beiden 3D Elemente. Das sieht wie folgt aus:"
   ]
  },
  {
   "cell_type": "code",
   "execution_count": 11,
   "metadata": {},
   "outputs": [
    {
     "data": {
      "text/plain": [
       "array([[2, 3],\n",
       "       [4, 5]])"
      ]
     },
     "execution_count": 11,
     "metadata": {},
     "output_type": "execute_result"
    }
   ],
   "source": [
    "#Frage das erste 3D Elemenet ab in der Struktur [3D,3D]\n",
    "#da der 3D Array aus einem 2-5 und einem 6-9 Element besteht fragen wir mit \"0\" das erste dieser Elemente ab\n",
    "ThreeDArray[0,:,:]"
   ]
  },
  {
   "cell_type": "code",
   "execution_count": 12,
   "metadata": {},
   "outputs": [
    {
     "data": {
      "text/plain": [
       "array([[2, 3],\n",
       "       [6, 7]])"
      ]
     },
     "execution_count": 12,
     "metadata": {},
     "output_type": "execute_result"
    }
   ],
   "source": [
    "#wollen wir nach der Reihe abfragen, gibt die Abfrage von beiden 3D Elementen die angefragte Reihe wieder\n",
    "#dies ist so, da für die Trennung nach 3D Würfel das erstel Element der Abfrage zuständig ist\n",
    "ThreeDArray[:,0,:]"
   ]
  },
  {
   "cell_type": "code",
   "execution_count": 13,
   "metadata": {},
   "outputs": [
    {
     "data": {
      "text/plain": [
       "array([2, 3])"
      ]
     },
     "execution_count": 13,
     "metadata": {},
     "output_type": "execute_result"
    }
   ],
   "source": [
    "#wir können aber natürlich auch nur die erste Reihe des ersten 3D Elements abfragen\n",
    "#dies machen wir indem wir die beiden Abfragen kombinieren\n",
    "ThreeDArray[0,0,:]"
   ]
  },
  {
   "cell_type": "code",
   "execution_count": 14,
   "metadata": {},
   "outputs": [
    {
     "data": {
      "text/plain": [
       "array([[2, 4],\n",
       "       [6, 8]])"
      ]
     },
     "execution_count": 14,
     "metadata": {},
     "output_type": "execute_result"
    }
   ],
   "source": [
    "#Wollen wir die Spalten läuft das über das letzte Element ab (Spalten von beiden 3D Elementen)\n",
    "ThreeDArray[:,:,0]"
   ]
  },
  {
   "cell_type": "code",
   "execution_count": 19,
   "metadata": {},
   "outputs": [
    {
     "name": "stdout",
     "output_type": "stream",
     "text": [
      "Alle Elemente:\n",
      "[[[2 3]\n",
      "  [4 5]]\n",
      "\n",
      " [[6 7]\n",
      "  [8 9]]]\n",
      "Wählen des Würfels:\n",
      "[[2 3]\n",
      " [4 5]]\n",
      "Wählen der Reihe:\n",
      "[4 5]\n",
      "Wählen der Spalte:\n",
      "5\n",
      "Tada!!\n"
     ]
    }
   ],
   "source": [
    "#wollen wir also die 5 machen wir das wie folgt\n",
    "print(\"Alle Elemente:\")\n",
    "print(ThreeDArray)\n",
    "print(\"Wählen des Würfels:\")\n",
    "print(ThreeDArray[0,:,:])\n",
    "print(\"Wählen der Reihe:\")\n",
    "print(ThreeDArray[0,1,:])\n",
    "print(\"Wählen der Spalte:\")\n",
    "print(ThreeDArray[0,1,1])\n",
    "print(\"Tada!!\")"
   ]
  }
 ],
 "metadata": {
  "kernelspec": {
   "display_name": "Python 3 (ipykernel)",
   "language": "python",
   "name": "python3"
  },
  "language_info": {
   "codemirror_mode": {
    "name": "ipython",
    "version": 3
   },
   "file_extension": ".py",
   "mimetype": "text/x-python",
   "name": "python",
   "nbconvert_exporter": "python",
   "pygments_lexer": "ipython3",
   "version": "3.9.7"
  }
 },
 "nbformat": 4,
 "nbformat_minor": 4
}
