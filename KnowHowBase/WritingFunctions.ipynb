{
 "cells": [
  {
   "cell_type": "markdown",
   "metadata": {},
   "source": [
    "# Funktionen schreiben in Python\n",
    "Um eine Funktion in Python zu implementieren, kann diese entweder im laufenden Skript definiert werden, oder in einem gesonderten Dokument.b"
   ]
  },
  {
   "cell_type": "code",
   "execution_count": 3,
   "metadata": {},
   "outputs": [],
   "source": [
    "#load libraries\n",
    "import numpy as np\n",
    "import matplotlib.pyplot as plt"
   ]
  },
  {
   "cell_type": "markdown",
   "metadata": {},
   "source": [
    "### 1. Grundstruktur einer Funktion\n",
    "Eine Funktion wird eingeleitet durch den Befehl **def**. Danach folgt der Funktionsname. In Klammern werden dann alle Funktionsparameter definiert. Ein **:** eröffnet die eigentliche Funktion schließlich. Im Funktionsbereich selbst können nun verschiedene Operationen vorgenommen werden, bevor abschließend mit einem **return** Befehl ein Output erzeugt wird. "
   ]
  },
  {
   "cell_type": "markdown",
   "metadata": {},
   "source": [
    "### 2. Funktion im laufenden Skript\n",
    "Um eine Funktion im laufenden Skript zu definieren wird diese einfach an die entsprechende Stelle geschrieben. Später kann sie dann über ihren Namen aufgerufen werden. Wichtig ist, dass die entsprechenden Parameter dann auch gefüllt werden."
   ]
  },
  {
   "cell_type": "code",
   "execution_count": 8,
   "metadata": {},
   "outputs": [
    {
     "data": {
      "text/plain": [
       "[<matplotlib.lines.Line2D at 0x14a4e5516d8>]"
      ]
     },
     "execution_count": 8,
     "metadata": {},
     "output_type": "execute_result"
    },
    {
     "data": {
      "image/png": "[encoded data removed]",
      "text/plain": [
       "<Figure size 432x288 with 1 Axes>"
      ]
     },
     "metadata": {
      "needs_background": "light"
     },
     "output_type": "display_data"
    }
   ],
   "source": [
    "xcoords = np.linspace(20, 95, num = 5)\n",
    "\n",
    "#die Funktion\n",
    "def exponentialFUN(x, A, c, d):\n",
    "    A = A*0.001\n",
    "    return A*np.exp(c*x) + d\n",
    "\n",
    "ycoords = exponentialFUN(x = xcoords, A = 1.67, c = 0.0335, d = 50)\n",
    "\n",
    "plt.plot(xcoords, ycoords, \"bo\")"
   ]
  },
  {
   "cell_type": "markdown",
   "metadata": {},
   "source": [
    "### 3. Funktion in einem externen Skript\n",
    "Wird eine Funktion in einem externen Skript abgespeichert hat dass den Vorteil, dass die Funktion in mehreren Skripten immer wieder verwendet werden kann. Zudem ist die Struktur wesentlich übersichtlicher, gerade wenn die Funktion selbst sehr komplex ist. Vor allem im zweiteren Fall empfiehlt es sich die Funktion auch genau zu dokumentieren.\n",
    "#### Funktionsdokumentation"
   ]
  },
  {
   "cell_type": "code",
   "execution_count": 9,
   "metadata": {},
   "outputs": [],
   "source": [
    "def FUN(a, b):\n",
    "    \"\"\"\n",
    "    Sehr kurze Beschreibung.\n",
    "    \n",
    "    Ausführlicherer Beschreibung.\n",
    "    \n",
    "    Parameters\n",
    "    ----------\n",
    "    a : Datentyp a\n",
    "        Beschreibung a.\n",
    "    b : Datentyp b\n",
    "        Beschreibung b.\n",
    "        \n",
    "    Returns\n",
    "    -------\n",
    "    Was wird ausgegeben.\n",
    "    \n",
    "    \"\"\"\n",
    "    a = a+2\n",
    "    \n",
    "    return a+b"
   ]
  },
  {
   "cell_type": "markdown",
   "metadata": {},
   "source": [
    "#### Funktion in einer Datei speichern\n",
    "Die unten stehende Beispielfunktion wird in einer Datei mit dem Namen *FUN_ExtractWeatherSituation.py* gespeichert."
   ]
  },
  {
   "cell_type": "code",
   "execution_count": 10,
   "metadata": {},
   "outputs": [],
   "source": [
    "def weatherSituation(workingDir, filename, month):\n",
    "    \"\"\"\n",
    "    Extract the weather situation from the DWD website format.\n",
    "    \n",
    "    The historic weather situation can be found here:\n",
    "    https://www.dwd.de/DE/leistungen/wetterlagenklassifikation/online_wlkdaten.txt?view=nasPublication&nn=16102\n",
    "    Its interpretation can be found here:\n",
    "    https://www.dwd.de/DE/leistungen/wetterlagenklassifikation/kennzahlen_kennungen.html?nn=16102&lsbId=375412\n",
    "    This function extracts first the year 2017 (research period of Master's thesis).\n",
    "    Subsequently, one month is derived, containing the weather situation at a daily resolution.\n",
    "    \n",
    "    Parameters\n",
    "    ----------\n",
    "    workingDir : string\n",
    "        The working directory\n",
    "    filename : string\n",
    "        The file name of the .txt DWD table\n",
    "    month : number\n",
    "        The number of the studied month. January is equivalent to 1 and so on\n",
    "    \n",
    "    Returns\n",
    "    -------\n",
    "    list with strings\n",
    "    \n",
    "    \"\"\"\n",
    "    #open the file\n",
    "    with open(workingDir+filename) as weather:\n",
    "        file = weather.readlines()\n",
    "    #drop supplement information\n",
    "    file = file[1:13]\n",
    "    #extract the month row\n",
    "    file = file[month-1]\n",
    "    #split the list on every space\n",
    "    weatherPerDay = file.split(\" \")\n",
    "    #drop remaining spaces\n",
    "    weatherPerDay = list(filter((\"\").__ne__, weatherPerDay))\n",
    "    #drop 0, as it indicates month with less than 31 days\n",
    "    weatherPerDay = list(filter((\"0\").__ne__, weatherPerDay))\n",
    "    #drop the date information and the last line break\n",
    "    weatherPerDay = weatherPerDay[1:-1]\n",
    "    \n",
    "    return weatherPerDay    \n"
   ]
  },
  {
   "cell_type": "markdown",
   "metadata": {},
   "source": [
    "#### Funktionsaufruf\n",
    "Um die Funktion nun in einem anderen Skript aufzurufen müssen zwei Bedingungen erfüllt sein:\n",
    "- Die Funktion muss mittels eines **import** Befehls geladen werden(üblicherweise oben in dem Bereich in dem auch die Bibliotheken geladen werden): *import FUN_ExtractWeatherSituation as ws*\n",
    "- Das aktuelle **working directory** muss sich im selben Ordner befinden wie das hinterlegte Skript das die Funktion enthält: Im Ordner Masterarbeit_Skripte liegt das Funktionsskript, das im Arbeitsskript oben rechts eingestellte Working Directory ist auf den entsprechenden Ordner eingestellt (wird vereinfacht wenn Python Projekte verwendet werden, dort wird WD immer auf den gleichen Ordner gesetzt) \n",
    "Im eigentlichen Arbeitsskript kann dann (im Beispiel mit *ws*) die Funktion aufgerufen und ausgeführt werden. In diesem Fall wird die komplette Datei geladen und wir müssen noch spezifizieren, dass wir die entsprechende Funktion nutzen wollen. Der Funktionsaufruf würde daher *ws.weatherSituation()* lauten. Andererseits kann man direkt die eine Funktion über *from FUN_ExtractWeatherSituation import weatherSituation* laden. Der Funktionsaufruf würde dann nur weatherSituation() lauten.\n",
    "\n",
    "Wurden Bibliotheken im Skript verwendet, müssen diese auch in der externen Datei geladen werden."
   ]
  },
  {
   "cell_type": "code",
   "execution_count": 1,
   "metadata": {},
   "outputs": [],
   "source": [
    "#example script 1 -----------------------------\n",
    "import numpy as np\n",
    "#from FUN_ExtractWeatherSituation import weatherSituation\n",
    "\n",
    "#weatherSituation(a = a, b = b)\n",
    "\n",
    "#example script 2 -----------------------------\n",
    "import numpy as np\n",
    "#import  FUN_ExtractWeatherSituation as ws\n",
    "\n",
    "#ws.weatherSituation(a = a, b = b)"
   ]
  }
 ],
 "metadata": {
  "kernelspec": {
   "display_name": "Python 3",
   "language": "python",
   "name": "python3"
  },
  "language_info": {
   "codemirror_mode": {
    "name": "ipython",
    "version": 3
   },
   "file_extension": ".py",
   "mimetype": "text/x-python",
   "name": "python",
   "nbconvert_exporter": "python",
   "pygments_lexer": "ipython3",
   "version": "3.7.3"
  }
 },
 "nbformat": 4,
 "nbformat_minor": 4
}
