{
 "cells": [
  {
   "cell_type": "markdown",
   "id": "2160cea4",
   "metadata": {},
   "source": [
    "### Regular Expressions (Regex)\n",
    "Regular expressions are a way of filtering strings and identifying string pattern. They allow to identify certain pattern in a text and, if desired, to replaced them with other string pattern.\n",
    "\n",
    "We start with a simple example. Take the following text, and of course, import the module re:"
   ]
  },
  {
   "cell_type": "code",
   "execution_count": 27,
   "id": "1f8350e1",
   "metadata": {},
   "outputs": [],
   "source": [
    "#regular expression operations (https://docs.python.org/3/library/re.html)\n",
    "import re\n",
    "\n",
    "text = '''The following text contains a certain amount of characters.\n",
    "Besides letters, there are also some numbers like 1234 and 5532. \n",
    "Additionally, special characters like /\\%&_-!? and $§ are part of the text.'''"
   ]
  },
  {
   "cell_type": "markdown",
   "id": "f1c87c40",
   "metadata": {},
   "source": [
    "Now, let's start using regulare expressions.\n",
    "### The basics\n",
    "Regex are used to identify text pattern. That is why, we are interested in the position of the wanted pattern. To find out the position we need a way to identify the start and the end of a string.\n",
    "- **^** to identify the beginning of a line, or\n",
    "- \\\\$ to identify the end of a line in a string.\n",
    "\n",
    "If we want to select solely based on the position, we need additionally a way of matching every random pattern in between.\n",
    "- **.** matches any single character\n",
    "- \\* matches 0 or more repetitions of the aforemantioned character\n",
    "- \\+ matches 1 or more repetitions of the aforementioned character\n",
    "\n",
    "Now we know all the necessary pattern. But before we can try those out, we have to learn our first regex function to apply regex.\n",
    "### Our first match\n",
    "We are using **re.search(pattern, string)** to find a pattern in a string. The documentation tells us:\n",
    ">Scan through string looking for the first location where the regular expression pattern produces a match, and return a >corresponding match object.\n",
    "\n",
    "Let's search for the first line. The following regex delivers the requested result, as we are looking for the beginning of a line and the first occurence is always tracked. It must be followed by 0 to multiple random characters. Notice, that we always transform our regex pattern in rawstring using the **r\"...\"** to avoid python interprets our characters. (e.g. **\\n** turns to newline)"
   ]
  },
  {
   "cell_type": "code",
   "execution_count": 40,
   "id": "1f6e717a",
   "metadata": {},
   "outputs": [
    {
     "data": {
      "text/plain": [
       "<re.Match object; span=(0, 59), match='The following text contains a certain amount of c>"
      ]
     },
     "execution_count": 40,
     "metadata": {},
     "output_type": "execute_result"
    }
   ],
   "source": [
    "re.search(r\"^.*\",text)"
   ]
  },
  {
   "cell_type": "markdown",
   "id": "1f75d6fe",
   "metadata": {},
   "source": [
    "That output contains a bit too much information. But the result is correct as the search function returns a *match object*.\n",
    "To make this readable, we can use **.group(0)** The reason is, that a regex can return 1 or more groups, but we will look into that later."
   ]
  },
  {
   "cell_type": "code",
   "execution_count": 42,
   "id": "d9f54f01",
   "metadata": {},
   "outputs": [
    {
     "data": {
      "text/plain": [
       "'The following text contains a certain amount of characters.'"
      ]
     },
     "execution_count": 42,
     "metadata": {},
     "output_type": "execute_result"
    }
   ],
   "source": [
    "re.search(r\"^.*\",text).group(0)"
   ]
  },
  {
   "cell_type": "markdown",
   "id": "8b8f59e2",
   "metadata": {},
   "source": [
    "Let's specify our search. We are only interested in the first word.\n",
    "We can use the following two methods:\n",
    "- **\\b** is a word boundary. We can specify that we are interested in the string between the boundary before and after the first word. In this case \"The\"\n",
    "- **\\w** matches a single word.\n",
    "\n",
    "To match the first word using **\\b** we define \"The\" in the middle.\n",
    "To match the first word using **\\w** we are looking for the first occurence of a word. The **+** indicates that the word has to occure one or multiple times. Our first match is \"The\"."
   ]
  },
  {
   "cell_type": "code",
   "execution_count": 56,
   "id": "26bad725",
   "metadata": {},
   "outputs": [
    {
     "name": "stdout",
     "output_type": "stream",
     "text": [
      "Using b: The\n",
      "Using w: The\n"
     ]
    }
   ],
   "source": [
    "using_b = re.search(r\"^\\bThe\\b\",text).group(0)\n",
    "using_w = re.search(r\"^\\w+\", text).group(0)\n",
    "\n",
    "print(\"Using b:\", using_b)\n",
    "print(\"Using w:\", using_w)"
   ]
  },
  {
   "cell_type": "code",
   "execution_count": null,
   "id": "14b2da15",
   "metadata": {},
   "outputs": [],
   "source": []
  },
  {
   "cell_type": "code",
   "execution_count": 6,
   "id": "9f4d5c2d",
   "metadata": {
    "scrolled": true
   },
   "outputs": [
    {
     "name": "stdout",
     "output_type": "stream",
     "text": [
      "Buchungsdatum;Betrag;Buchungs-Info;category\n",
      "03.01.2022;-262,15;Miete;\n",
      "07.01.2022;-10,17;POS 10,17 DE K1 06.01. 19:44 REWE WIESBADEN LILIENC WIESBADEN 65189 280;\n",
      "07.01.2022;-16,21;POS 16,21 DE K1 05.01. 17:51 REWE WIESBADEN, BLEICH WIESBADEN 65185 280;\n",
      "10.01.2022;-56;go green energy GmbH+Co KG Summenbu chung faelliger Positionen Kun.Nr.4 23717;\n",
      "10.01.2022;-13,5;POS 13,50 DE K1 08.01. 13:48 WIESBADENER NORDWAND IDSTEIN 65510 280;\n"
     ]
    }
   ],
   "source": [
    "data ='''Buchungsdatum;Betrag;Buchungs-Info;category\n",
    "03.01.2022;-262,15;Miete;\n",
    "07.01.2022;-10,17;POS 10,17 DE K1 06.01. 19:44 REWE WIESBADEN LILIENC WIESBADEN 65189 280;\n",
    "07.01.2022;-16,21;POS 16,21 DE K1 05.01. 17:51 REWE WIESBADEN, BLEICH WIESBADEN 65185 280;\n",
    "10.01.2022;-56;go green energy GmbH+Co KG Summenbu chung faelliger Positionen Kun.Nr.4 23717;\n",
    "10.01.2022;-13,5;POS 13,50 DE K1 08.01. 13:48 WIESBADENER NORDWAND IDSTEIN 65510 280;'''\n",
    "\n",
    "print(data)"
   ]
  },
  {
   "cell_type": "markdown",
   "id": "df6c64b2",
   "metadata": {},
   "source": [
    "### Summary\n",
    "\n",
    "| Regex pattern | Explanation |\n",
    "| --- | --- |\n",
    "| ^ | Identifies the beginning of a line |\n",
    "| $ | Idenfities the end of a line |\n",
    "| \\b...\\b | Word boundary. Matches the beginning and end of a word |\n",
    "| \\w | Word character. Matches a single word itself |"
   ]
  },
  {
   "cell_type": "markdown",
   "id": "29cfe7cb",
   "metadata": {},
   "source": [
    "### Sources\n",
    "- https://support.bettercloud.com/s/article/Creating-your-own-Custom-Regular-Expression-bc72153\n",
    "- https://macromates.com/manual/en/regular_expressions\n"
   ]
  }
 ],
 "metadata": {
  "kernelspec": {
   "display_name": "Python 3 (ipykernel)",
   "language": "python",
   "name": "python3"
  },
  "language_info": {
   "codemirror_mode": {
    "name": "ipython",
    "version": 3
   },
   "file_extension": ".py",
   "mimetype": "text/x-python",
   "name": "python",
   "nbconvert_exporter": "python",
   "pygments_lexer": "ipython3",
   "version": "3.9.12"
  }
 },
 "nbformat": 4,
 "nbformat_minor": 5
}
