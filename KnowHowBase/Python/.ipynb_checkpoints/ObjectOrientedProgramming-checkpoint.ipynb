{
 "cells": [
  {
   "cell_type": "markdown",
   "id": "8f8188fd",
   "metadata": {},
   "source": [
    "## Object Oriented Programming in Python\n",
    "Sources\n",
    "- https://www.youtube.com/watch?v=apACNr7DC_s\n",
    "- https://realpython.com/python3-object-oriented-programming/\n",
    "- https://www.python-kurs.eu/einfuehrung_objektorientierte_programmierung_unter_python.php\n",
    "\n",
    "### Basics\n",
    "- Programme werden strukturiert, indem Eigenschaften der Variablen und Verhaltensweisen des Codes in Objekten gebündelt wird\n",
    "- Ein Objekt könnte bspw. eine Person mit Eigenschaften (Größe, Alter, Wohnanschrift) und Verhaltensweisen (spazieren, sprechen) sein\n",
    "- Oder eine Mail mit Eigenschaften (Empfänger…) und Verhalten (senden…)\n",
    "- Das Gegenteil von objektorientierter Programmierung ist prozedurale Programmierung: hierbei wird das Programm wird wie bei einer Anleitung von oben nach unten abgearbeitet und enthält dabei Code-Blöcke und Funktionen\n",
    "\n",
    "### Structure\n",
    "- Eine Klasse an sich enthält keine Daten, sie definiert nur, wie Daten verarbeitet werden\n",
    "- Instanzen (oder Objekte) sind Objekte, die aus den Klassen gebildet werden und tatsächliche Daten enthalten, die Klasse ist die Vorlage und die Instanz eine mögliche Füllung dieser Vorlage (Klasse = Hund, Instanz = Labrador)\n",
    "- Klassen enthalten Methoden, die definieren, wie sich ein Objekt oder eine Instanz verhalten kann\n",
    "- Instanzen oder Objekte haben Eigenschaften oder Fields. Diese beschreiben die Objekte genauer und beinhalten die eigentlichen Daten. (Klasse = Hund, Instanz = Labrador, Eigenschaft von Labrador = Farbe)\n",
    "\n",
    "### Defining a class\n",
    "- shortes way to declare a class:"
   ]
  },
  {
   "cell_type": "code",
   "execution_count": 1,
   "id": "e8107bf8",
   "metadata": {},
   "outputs": [],
   "source": [
    "class Classname:\n",
    "    pass"
   ]
  },
  {
   "cell_type": "markdown",
   "id": "14254c2d",
   "metadata": {},
   "source": [
    "- Convention: classnames are always written in *UpperCamelCase*  \n",
    "\n",
    "### Create classes and instances\n",
    "- Create a class, e.g. class called *User*:"
   ]
  },
  {
   "cell_type": "code",
   "execution_count": 2,
   "id": "88685fb4",
   "metadata": {},
   "outputs": [],
   "source": [
    "class User:\n",
    "    pass"
   ]
  },
  {
   "cell_type": "markdown",
   "id": "2f271412",
   "metadata": {},
   "source": [
    "- create a single user, e.g. called User1: "
   ]
  },
  {
   "cell_type": "code",
   "execution_count": 3,
   "id": "829c217e",
   "metadata": {},
   "outputs": [],
   "source": [
    "user1 = User()"
   ]
  },
  {
   "cell_type": "markdown",
   "id": "e0fec77c",
   "metadata": {},
   "source": [
    "User1 ist eine \"Instance\" der Klasse User, oder ein \"Objekt\".\n",
    " \n",
    "Um einem Objekt Werte zuzuordnen, wird der Überbegriff des Wertes mit Punkt getrennt hinter das Objekt geschrieben, dann wird ein Wert zugeordnet. Die Überbegriffe werden als \"Fields\" bezeichnet, diese sollten keine Großbuchstaben enthalten z.B.:"
   ]
  },
  {
   "cell_type": "code",
   "execution_count": 4,
   "id": "b791d196",
   "metadata": {},
   "outputs": [],
   "source": [
    "user1.first_name = \"Dave\""
   ]
  },
  {
   "cell_type": "markdown",
   "id": "4ed28ba6",
   "metadata": {},
   "source": [
    "Um Werte abzugreifen, werden sie ebenfalls mit Punkt getrennt angesprochen:"
   ]
  },
  {
   "cell_type": "code",
   "execution_count": 5,
   "id": "8bea9882",
   "metadata": {},
   "outputs": [
    {
     "name": "stdout",
     "output_type": "stream",
     "text": [
      "Dave\n"
     ]
    }
   ],
   "source": [
    "print(user1.first_name)"
   ]
  },
  {
   "cell_type": "markdown",
   "id": "aad073e3",
   "metadata": {},
   "source": [
    "Vorteile bei der Nutzung von Klassenobjekten:\n",
    "- Methoden (siehe Struktur: Methode)\n",
    "- Initialization (siehe Init-Methode)\n",
    "- Help Text (Siehe Abschnitt Help-Text)\n",
    "\n",
    "**Init-Method**    \n",
    "Ist eine Methode. Wird auch dunder method gennant (Doppelter Unterstrich). Init steht für Initialization. Diese Methode wird jedes Mal ausgeführt, wenn ein neues Objekt erstellt wird.\n",
    "Die Init-Methode wird stets mit \"__init__\" benannt (2*_). Sie beschreibt alle Eigenschaften, die alle Elemente, also Instanzen, der Klasse aufweisen müssen. Z.B.: Alle Hunde der Klasse Hund müssen ein zugeordnetes Alter und Geschlecht haben.\n",
    "Erstes Argument ist immer \"self\", welches sich auf die Instanzen bezieht. Im Beispiel der Klasse Hund beschreibt Self einen zu definierenden Hund. \n",
    "Dann kommen zusätzliche optionale Fields, die vordefiniert werden sollen. Achtung: die Field-Namen können mehrmals vergeben werden, da sie sich nur auf das zugeordnete Klassenobjekt beziehen. So kann es eine Variable birthday geben und gleichzeitig kann ein Objekt ein Field mit dem Namen birthday haben. Außerdem kann auch eine andere Klasse ein Field mit dem Namen birthday haben."
   ]
  },
  {
   "cell_type": "code",
   "execution_count": 6,
   "id": "8c36b8b9",
   "metadata": {},
   "outputs": [],
   "source": [
    "class User:\n",
    "    def __init__(self, full_name, birthday):\n",
    "        self.name = full_name\n",
    "        self.birthdat = birthday #zwei verschiedene Objekte mit gleichem Namen (Variable und Field)"
   ]
  },
  {
   "cell_type": "markdown",
   "id": "3e29750e",
   "metadata": {},
   "source": [
    "Attribute\n",
    "Instanz-Attribute variieren für jede Instanz (z.B.: für jeden Hund), während Klassen-Attribute für alle Instanzen gleich sind."
   ]
  },
  {
   "cell_type": "code",
   "execution_count": 9,
   "id": "c7603608",
   "metadata": {},
   "outputs": [],
   "source": [
    "class User:\n",
    "    #class attribute\n",
    "    Company = \"Haribo\"\n",
    "    \n",
    "    def __init__(self, full_name, birthday):\n",
    "        #Instance attributes\n",
    "        self.name = full_name\n",
    "        self.birthday = birthday"
   ]
  },
  {
   "cell_type": "markdown",
   "id": "20739a61",
   "metadata": {},
   "source": [
    "- Im Beispiel arbeitet jeder User bei Haribo. Jedoch hat jeder User einen anderen Namen und ein anderes Alter.\n",
    "- Klassenattribute werden immer direkt nach der Klassendefinition festgelegt und benötigen einen zugeordneten Wert\n",
    "\n",
    "### Anpassen von Instanzeigenschaften\n",
    "Instanzeigenschaften können nachträglich geändert werden, indem der neue Wert zugewiesen wird:"
   ]
  },
  {
   "cell_type": "code",
   "execution_count": 10,
   "id": "0a1a0d09",
   "metadata": {},
   "outputs": [],
   "source": [
    "class Dog:\n",
    "    species = \"Canis familiaris\"\n",
    "    \n",
    "    def __init__(self, name, age):\n",
    "        self.name = name\n",
    "        self.age = age"
   ]
  },
  {
   "cell_type": "code",
   "execution_count": 11,
   "id": "028c8de3",
   "metadata": {},
   "outputs": [
    {
     "data": {
      "text/plain": [
       "'Buddy'"
      ]
     },
     "execution_count": 11,
     "metadata": {},
     "output_type": "execute_result"
    }
   ],
   "source": [
    "buddy = Dog(\"Buddy\", 9)\n",
    "buddy.name "
   ]
  },
  {
   "cell_type": "code",
   "execution_count": 12,
   "id": "b4c0bfe7",
   "metadata": {},
   "outputs": [
    {
     "data": {
      "text/plain": [
       "10"
      ]
     },
     "execution_count": 12,
     "metadata": {},
     "output_type": "execute_result"
    }
   ],
   "source": [
    "buddy.age = 10\n",
    "buddy.age"
   ]
  },
  {
   "cell_type": "markdown",
   "id": "4cb75c31",
   "metadata": {},
   "source": [
    "### Methoden\n",
    "**Methoden innerhalb von INIT (INIT-Methode)**   \n",
    "z.B.: kann ein String in der Klassendefinition in zwei Teile gesplittet werden:"
   ]
  },
  {
   "cell_type": "code",
   "execution_count": 15,
   "id": "b4edfd69",
   "metadata": {},
   "outputs": [
    {
     "name": "stdout",
     "output_type": "stream",
     "text": [
      "Dave\n"
     ]
    }
   ],
   "source": [
    "class User:\n",
    "    def __init__(self, full_name, birthday):\n",
    "        self.name = full_name\n",
    "        self.birthday = birthday\n",
    "\n",
    "        #Extract first and last name\n",
    "        name_pieces = full_name.split(\" \")\n",
    "        self.first_name = name_pieces[0]\n",
    "        self.last_name = name_pieces[-1]\n",
    "\n",
    "#define user\n",
    "user = User(\"Dave Bowman\", \"19710315\")\n",
    "print(user.first_name)"
   ]
  },
  {
   "cell_type": "markdown",
   "id": "3cf7d758",
   "metadata": {},
   "source": [
    "**Methoden außerhalb von INIT (Instanzmethoden)**\n",
    "- Instanzmethoden sind Funktionen, die innerhalb einer Klasse definiert werden und nur innerhalb einer Instanz aufgerufen werden können:"
   ]
  },
  {
   "cell_type": "code",
   "execution_count": 16,
   "id": "31c580f2",
   "metadata": {},
   "outputs": [],
   "source": [
    "class Dog:\n",
    "    species = \"Canis familiaris\"\n",
    "    def __init__(self, name, age):\n",
    "        self.name = name\n",
    "        self.age = age\n",
    "        \n",
    "    # Instance method\n",
    "    def description(self):\n",
    "        return f\"{self.name} is {self.age} years old\"\n",
    "    \n",
    "    # Another instance method\n",
    "    def speak(self, sound):\n",
    "        return f\"{self.name} says {sound}\""
   ]
  },
  {
   "cell_type": "markdown",
   "id": "28c36df3",
   "metadata": {},
   "source": [
    "- Description gibt den Namen und das Alter des Hundes wider\n",
    "- Speak gibt den Namen des Hundes und das Geräusch, dass er macht, wider\n",
    "- Um den Code auszuführen, muss bei der Erstellung einer Instanz Dog der Name und das Alter angegeben werden, beim Abruf der Eigenschaft Speak muss zusätzlich der Laut mit angegeben werden:\n"
   ]
  },
  {
   "cell_type": "code",
   "execution_count": 17,
   "id": "7ca0fe84",
   "metadata": {},
   "outputs": [
    {
     "data": {
      "text/plain": [
       "'Miles is 4 years old'"
      ]
     },
     "execution_count": 17,
     "metadata": {},
     "output_type": "execute_result"
    }
   ],
   "source": [
    "miles = Dog(\"Miles\", 4)\n",
    "miles.description()"
   ]
  },
  {
   "cell_type": "code",
   "execution_count": 18,
   "id": "833ddbd8",
   "metadata": {},
   "outputs": [
    {
     "data": {
      "text/plain": [
       "'Miles says Woof Woof'"
      ]
     },
     "execution_count": 18,
     "metadata": {},
     "output_type": "execute_result"
    }
   ],
   "source": [
    "miles.speak(\"Woof Woof\")"
   ]
  },
  {
   "cell_type": "code",
   "execution_count": 19,
   "id": "b8607c9b",
   "metadata": {},
   "outputs": [
    {
     "data": {
      "text/plain": [
       "'Miles says Bow Wow'"
      ]
     },
     "execution_count": 19,
     "metadata": {},
     "output_type": "execute_result"
    }
   ],
   "source": [
    "miles.speak(\"Bow Wow\")"
   ]
  },
  {
   "cell_type": "markdown",
   "id": "254ec3ad",
   "metadata": {},
   "source": [
    "### __str__ Methode\n",
    "- Um Eigenschaften einer Klasseninstanz nach außen sichtbar zu machen (mit einem Print Befehl), muss diese in der __str__ Methode definiert werden:"
   ]
  },
  {
   "cell_type": "code",
   "execution_count": 20,
   "id": "c2ae7c7c",
   "metadata": {},
   "outputs": [],
   "source": [
    "class Dog:\n",
    "    species = \"Canis familiaris\"\n",
    "    def __init__(self, name, age):\n",
    "        self.name = name\n",
    "        self.age = age\n",
    "        \n",
    "    #Replace description method with __str__()\n",
    "    def __str__(self):\n",
    "        return f\"{self.name} is {self.age} years old\"\n",
    "    \n",
    "    # Another instance method\n",
    "    def speak(self, sound):\n",
    "        return f\"{self.name} says {sound}\""
   ]
  },
  {
   "cell_type": "code",
   "execution_count": 21,
   "id": "9b2df406",
   "metadata": {},
   "outputs": [
    {
     "name": "stdout",
     "output_type": "stream",
     "text": [
      "Miles is 4 years old\n"
     ]
    }
   ],
   "source": [
    "miles = Dog(\"Miles\", 4)\n",
    "print(miles)"
   ]
  },
  {
   "cell_type": "markdown",
   "id": "d6f2779e",
   "metadata": {},
   "source": [
    "**Help Text**   \n",
    "Help-Text gibt eine kurze Beschreibung der Klasse:"
   ]
  },
  {
   "cell_type": "code",
   "execution_count": 22,
   "id": "366285a7",
   "metadata": {},
   "outputs": [],
   "source": [
    "class User:\n",
    "    \"\"\"Some explanatory text here.\"\"\"\n",
    " \n",
    "    def __init__(self, full_name, birthday):\n",
    "        self.name = full_name\n",
    "        self.birthday = birthday"
   ]
  },
  {
   "cell_type": "markdown",
   "id": "5772f1b3",
   "metadata": {},
   "source": [
    "Kann aufgerufen werden über: "
   ]
  },
  {
   "cell_type": "code",
   "execution_count": 23,
   "id": "063d32b5",
   "metadata": {},
   "outputs": [
    {
     "name": "stdout",
     "output_type": "stream",
     "text": [
      "Help on class User in module __main__:\n",
      "\n",
      "class User(builtins.object)\n",
      " |  User(full_name, birthday)\n",
      " |  \n",
      " |  Some explanatory text here.\n",
      " |  \n",
      " |  Methods defined here:\n",
      " |  \n",
      " |  __init__(self, full_name, birthday)\n",
      " |      Initialize self.  See help(type(self)) for accurate signature.\n",
      " |  \n",
      " |  ----------------------------------------------------------------------\n",
      " |  Data descriptors defined here:\n",
      " |  \n",
      " |  __dict__\n",
      " |      dictionary for instance variables (if defined)\n",
      " |  \n",
      " |  __weakref__\n",
      " |      list of weak references to the object (if defined)\n",
      "\n"
     ]
    }
   ],
   "source": [
    "help(User)"
   ]
  },
  {
   "cell_type": "markdown",
   "id": "33d38554",
   "metadata": {},
   "source": [
    "Weitere Funktionen würden wie folgt kommentiert werden:"
   ]
  },
  {
   "cell_type": "code",
   "execution_count": 26,
   "id": "47e97aa3",
   "metadata": {},
   "outputs": [],
   "source": [
    "class User:\n",
    "    \"\"\"Some explanatory text here.\"\"\"\n",
    " \n",
    "    def __init__(self, full_name, birthday):\n",
    "        self.name = full_name\n",
    "        self.birthday = birthday\n",
    " \n",
    "    def age(self):\n",
    "        \"\"\"Some other decriptions.\"\"\"\n",
    "        #Do_something\n",
    "        #return(something_else_when_age_is_called)\n",
    "        pass"
   ]
  },
  {
   "cell_type": "code",
   "execution_count": 27,
   "id": "11fc75a0",
   "metadata": {},
   "outputs": [
    {
     "name": "stdout",
     "output_type": "stream",
     "text": [
      "None\n"
     ]
    }
   ],
   "source": [
    "user = User(\"Dave Bowman\", \"19710315\")\n",
    "print(user.age())"
   ]
  },
  {
   "cell_type": "markdown",
   "id": "2f6d77da",
   "metadata": {},
   "source": [
    "### Parent Classes vs. Child Classes\n",
    "- Klassen können Eigenschaften von anderen Klassen erhalten, übernehmen oder \"erben\"\n",
    "- Die so zusammenhängenden Klassen werden als Child bzw. Parent Klasse benannt\n",
    "- Eine Child Klasse hängt von ihrer Parent Klasse ab, der Verweis wird wie folgt hergestellt:"
   ]
  },
  {
   "cell_type": "code",
   "execution_count": 28,
   "id": "f1ce7fe8",
   "metadata": {},
   "outputs": [],
   "source": [
    "class Dog:\n",
    "    species = \"Canis familiaris\"\n",
    "    \n",
    "    def __init__(self, name, age):\n",
    "        self.name = name\n",
    "        self.age = age\n",
    "    def __str__(self):\n",
    "        return f\"{self.name} is {self.age} years old\"\n",
    "    def speak(self, sound):\n",
    "        return f\"{self.name} says {sound}\"\n",
    " \n",
    "class JackRussellTerrier(Dog):\n",
    "    pass"
   ]
  },
  {
   "cell_type": "markdown",
   "id": "c369f42c",
   "metadata": {},
   "source": [
    "Die Child Klasse nimmt alle Eigenschaften der Parent Klasse an, so ist folgendes möglich, ohne, dass die Klasse JackRussellTerrier genauer angepasst wird:"
   ]
  },
  {
   "cell_type": "code",
   "execution_count": 29,
   "id": "46592bc9",
   "metadata": {},
   "outputs": [],
   "source": [
    "miles = JackRussellTerrier(\"Miles\", 4)"
   ]
  },
  {
   "cell_type": "markdown",
   "id": "eb9cd138",
   "metadata": {},
   "source": [
    "### Extend the Functionality of a Parent Class\n",
    "- Um die Child Klassen genauer anzupassen und ihnen spezifischere Eigenschaften im Vergleich zur Parent Klasse zu geben, können \"Default\" Werte der Parentklasse in der Child Klasse überschrieben werden\n",
    "- Um Methoden der Parentklasse in der Childklasse zu überscheiben muss eine Variable gleichen Namens in der Childklasse definiert werden:"
   ]
  },
  {
   "cell_type": "code",
   "execution_count": 30,
   "id": "f9d77cc3",
   "metadata": {},
   "outputs": [],
   "source": [
    "class JackRussellTerrier(Dog):\n",
    "    def speak(self, sound = \"Arf\"):\n",
    "        return f\"{self.name} says {sound}\""
   ]
  }
 ],
 "metadata": {
  "kernelspec": {
   "display_name": "Python 3 (ipykernel)",
   "language": "python",
   "name": "python3"
  },
  "language_info": {
   "codemirror_mode": {
    "name": "ipython",
    "version": 3
   },
   "file_extension": ".py",
   "mimetype": "text/x-python",
   "name": "python",
   "nbconvert_exporter": "python",
   "pygments_lexer": "ipython3",
   "version": "3.9.7"
  }
 },
 "nbformat": 4,
 "nbformat_minor": 5
}
