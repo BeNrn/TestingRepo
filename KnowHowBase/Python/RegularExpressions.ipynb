{
 "cells": [
  {
   "cell_type": "markdown",
   "id": "2160cea4",
   "metadata": {},
   "source": [
    "# Regular Expressions (Regex)\n",
    "Regular expressions are a way of filtering strings and identifying string pattern. They allow identifying certain pattern in a text and, if desired, to replaced them with other string pattern.\n",
    "\n",
    "We always start with the import of the module re:"
   ]
  },
  {
   "cell_type": "code",
   "execution_count": 2,
   "id": "1f8350e1",
   "metadata": {},
   "outputs": [],
   "source": [
    "#regular expression operations (https://docs.python.org/3/library/re.html)\n",
    "import re"
   ]
  },
  {
   "cell_type": "markdown",
   "id": "f1c87c40",
   "metadata": {},
   "source": [
    "Now, let's start using regulare expressions.\n",
    "## 01 The basics\n",
    "\n",
    "We are using **re.search(pattern, string)** to find a pattern in a string. The documentation tells us:\n",
    ">Scan through string looking for the first location where the regular expression pattern produces a match, and return a corresponding match object.\n",
    "\n",
    "So let's have a look at some examples.\n",
    "\n",
    "\n",
    "### Start and end of a text\n",
    "Regex are used to identify text pattern. That is why, we are interested in the position of the wanted pattern. To find out the position we need a way of identifying the start and the end of a string.\n",
    "- **^** to identify the beginning of a line, or\n",
    "- **\\$** to identify the end of a line in a string."
   ]
  },
  {
   "cell_type": "code",
   "execution_count": 17,
   "id": "b60e3675",
   "metadata": {},
   "outputs": [
    {
     "data": {
      "text/plain": [
       "<re.Match object; span=(0, 4), match='dogs'>"
      ]
     },
     "execution_count": 17,
     "metadata": {},
     "output_type": "execute_result"
    }
   ],
   "source": [
    "#Example 1\n",
    "#define the regex and the text\n",
    "text1 = \"dogs are adorable\"\n",
    "regex1 = \"^dogs\"\n",
    "regex2 = \"are$\"\n",
    "\n",
    "#the search function of regex returns a match object, if the string pattern is found in the text\n",
    "re.search(regex1,text1)"
   ]
  },
  {
   "cell_type": "code",
   "execution_count": 18,
   "id": "69f836c3",
   "metadata": {},
   "outputs": [
    {
     "name": "stdout",
     "output_type": "stream",
     "text": [
      "None\n"
     ]
    }
   ],
   "source": [
    "#it returns nothing (None), if no match is made\n",
    "re.search(regex2,text1)\n",
    "\n",
    "#it can be made visible, using a print() command\n",
    "print(re.search(regex2,text1))"
   ]
  },
  {
   "cell_type": "code",
   "execution_count": 10,
   "id": "2ee646e7",
   "metadata": {},
   "outputs": [
    {
     "data": {
      "text/plain": [
       "<re.Match object; span=(9, 17), match='adorable'>"
      ]
     },
     "execution_count": 10,
     "metadata": {},
     "output_type": "execute_result"
    }
   ],
   "source": [
    "#the regex and text parameter can also inserted directly\n",
    "re.search(\"adorable$\",\"dogs are adorable\")"
   ]
  },
  {
   "cell_type": "markdown",
   "id": "bca50fc9",
   "metadata": {},
   "source": [
    "### Quantifiers\n",
    "An easy way to find a pattern in a text is to know how often certain elements are present in a string.\n",
    "\n",
    "- **?** identifies zero or one occurrences of the preceding element, the element is optional\n",
    "- **\\*** identifies zero or more occurrences of the preceding element\n",
    "- **+** identifies one or more occurrences of the preceding element"
   ]
  },
  {
   "cell_type": "code",
   "execution_count": 12,
   "id": "6802e64f",
   "metadata": {},
   "outputs": [
    {
     "name": "stdout",
     "output_type": "stream",
     "text": [
      "<re.Match object; span=(0, 5), match='color'>\n",
      "<re.Match object; span=(0, 6), match='colour'>\n"
     ]
    }
   ],
   "source": [
    "#let's say we want to match both ways of writing the word \"color\" (i.e. color and colour)\n",
    "\n",
    "print(re.search(\"colou?r\", \"color\"))\n",
    "print(re.search(\"colou?r\", \"colour\"))\n",
    "#both strings are a match because the \"u\" is optional"
   ]
  },
  {
   "cell_type": "code",
   "execution_count": 14,
   "id": "63d2d7de",
   "metadata": {},
   "outputs": [
    {
     "data": {
      "text/plain": [
       "<re.Match object; span=(0, 7), match='aaabbbb'>"
      ]
     },
     "execution_count": 14,
     "metadata": {},
     "output_type": "execute_result"
    }
   ],
   "source": [
    "#it is unknown how often a character appears or if it appears afer all\n",
    "\n",
    "re.search(\"a*b*c*\", \"aaabbbb\")"
   ]
  },
  {
   "cell_type": "code",
   "execution_count": 16,
   "id": "bc554dba",
   "metadata": {},
   "outputs": [
    {
     "name": "stdout",
     "output_type": "stream",
     "text": [
      "<re.Match object; span=(0, 3), match='abc'>\n",
      "<re.Match object; span=(0, 4), match='abbc'>\n",
      "None\n"
     ]
    }
   ],
   "source": [
    "#A character appears for sure, but we don't know how often\n",
    "\n",
    "print(re.search(\"ab+c\", \"abc\"))\n",
    "print(re.search(\"ab+c\", \"abbc\"))\n",
    "\n",
    "#if the character does not appear, we don't have a match\n",
    "print(re.search(\"ab+c\", \"ac\"))"
   ]
  },
  {
   "cell_type": "markdown",
   "id": "e3d32a44",
   "metadata": {},
   "source": [
    "### Sets\n",
    "\n",
    "When a single position in a string is analyzed by regex, it can be tested to fit in a defined pattern. Fore example, the first position of a string can be tested to match one of three characters. To do so, wea are using sets that aredefined by **[ ]**. "
   ]
  },
  {
   "cell_type": "code",
   "execution_count": 20,
   "id": "22550a3a",
   "metadata": {},
   "outputs": [
    {
     "data": {
      "text/plain": [
       "<re.Match object; span=(0, 1), match='h'>"
      ]
     },
     "execution_count": 20,
     "metadata": {},
     "output_type": "execute_result"
    }
   ],
   "source": [
    "#test if the first character is either an \"A\" an \"F\" or an \"h\"\n",
    "\n",
    "re.search(\"[AFh]\",\"hallo\")"
   ]
  },
  {
   "cell_type": "markdown",
   "id": "bb1b1d2e",
   "metadata": {},
   "source": [
    "### Ranges and a wildcard\n",
    "To identify ranges we are using the aforementioned sets. Regex also has a universal wildcard for every character. \n",
    "- **-** is the symbol for a range\n",
    "- **.** represents any character"
   ]
  },
  {
   "cell_type": "code",
   "execution_count": 25,
   "id": "b0910a73",
   "metadata": {},
   "outputs": [
    {
     "name": "stdout",
     "output_type": "stream",
     "text": [
      "<re.Match object; span=(0, 3), match='5Ag'>\n",
      "<re.Match object; span=(0, 3), match='5Ag'>\n"
     ]
    }
   ],
   "source": [
    "#ranges are always reare quested within sets and can be used for numbers, capital and lowercase letters\n",
    "print(re.search(\"[0-9][A-Z][a-z]\", \"5Ag\"))\n",
    "\n",
    "#Asking for every character in a range but exclude a defined intervall, the \"^\" sign within []  brackets is equivalent to NOT\n",
    "print(re.search(\"[0-9][^B-F][a-z]\", \"5Ag\"))"
   ]
  },
  {
   "cell_type": "code",
   "execution_count": 30,
   "id": "20bbc532",
   "metadata": {},
   "outputs": [
    {
     "data": {
      "text/plain": [
       "<re.Match object; span=(0, 15), match=\"aeÄ%ria'!gpaenn\">"
      ]
     },
     "execution_count": 30,
     "metadata": {},
     "output_type": "execute_result"
    }
   ],
   "source": [
    "#asking for every character one or more times\n",
    "re.search(\".+\", \"aeÄ%ria'!gpaenn\")"
   ]
  },
  {
   "cell_type": "markdown",
   "id": "96b330ae",
   "metadata": {},
   "source": [
    "### Special characters and specific occurrences\n",
    "\n",
    "Special characters idenfify a wide range of characters within a string and often have an alternative but more complex option. If the number of occurrences of a single regex pattern is known, the amount is put into curly brackets. It can also cover a range using {minimum, maximum occurrences}.\n",
    "- **\\d** identifies any digit, same as [0-9]\n",
    "- **\\w** identifies any alphanumerical character (digits, upper and lower case characters and the \"_\", same as [a-zA-Z0-9_] \n",
    "- **{ }** Number of occurrences of a single regex pattern in the form of {minimum occurences, maximum occurrences}"
   ]
  },
  {
   "cell_type": "code",
   "execution_count": 37,
   "id": "dfd784c1",
   "metadata": {
    "scrolled": true
   },
   "outputs": [
    {
     "name": "stdout",
     "output_type": "stream",
     "text": [
      "<re.Match object; span=(0, 6), match='529759'>\n",
      "<re.Match object; span=(0, 13), match='bad_Password1'>\n",
      "<re.Match object; span=(0, 0), match=''>\n",
      "<re.Match object; span=(0, 13), match='bad_Password1'>\n"
     ]
    }
   ],
   "source": [
    "print(re.search(\"\\d{5,8}\", \"529759\"))\n",
    "#if no minimum is set, the minimum automatically is set to 0.\n",
    "print(re.search(\"\\w{,13}\", \"bad_Password1\"))\n",
    "print(re.search(\"\\w{,13}\", \"\"))\n",
    "#if no maximum is set, well, no maximum is set\n",
    "print(re.search(\"\\w{1,}\", \"bad_Password1\"))"
   ]
  },
  {
   "cell_type": "markdown",
   "id": "d9baab80",
   "metadata": {},
   "source": [
    "Small application, that checks your password:"
   ]
  },
  {
   "cell_type": "code",
   "execution_count": 40,
   "id": "7c3476cf",
   "metadata": {},
   "outputs": [
    {
     "name": "stdout",
     "output_type": "stream",
     "text": [
      "Enter a passwordhallO1@uuuu\n",
      "Your password fulfills the requirements.\n"
     ]
    }
   ],
   "source": [
    "#Check for:\n",
    "#   - at least 8 characters\n",
    "regex = \"{8,}\"\n",
    "#   - uppercase letters\n",
    "regex = \"[A-Z]{8,}\"\n",
    "#   - lowercase letters\n",
    "regex = \"[A-Za-z]{8,}\"\n",
    "#   - numbers\n",
    "regex = \"[A-Za-z0-9]{8,}\"\n",
    "#   - special characters @#$%^&+=\n",
    "regex = \"[A-Za-z0-9@#$%^&+=]{8,}\"\n",
    "\n",
    "#waiting for userinput\n",
    "userinput = input(\"Enter a password: \")\n",
    "\n",
    "#check the password\n",
    "\n",
    "if re.search(regex, userinput):\n",
    "    print(\"Your password fulfills the requirements.\")\n",
    "else:\n",
    "    print(\"Your password does not fit.\")"
   ]
  },
  {
   "cell_type": "markdown",
   "id": "1f75d6fe",
   "metadata": {},
   "source": [
    "That output contains a bit too much information. But the result is correct as the search function returns a *match object*.\n",
    "To make this readable, we can use **.group(0)** The reason is, that a regex can return 1 or more groups, but we will look into that later."
   ]
  },
  {
   "cell_type": "code",
   "execution_count": 42,
   "id": "d9f54f01",
   "metadata": {},
   "outputs": [
    {
     "data": {
      "text/plain": [
       "'The following text contains a certain amount of characters.'"
      ]
     },
     "execution_count": 42,
     "metadata": {},
     "output_type": "execute_result"
    }
   ],
   "source": [
    "re.search(r\"^.*\",text).group(0)"
   ]
  },
  {
   "cell_type": "markdown",
   "id": "df6c64b2",
   "metadata": {},
   "source": [
    "### Appendix\n",
    "\n",
    "#### A - Regex pattern and their meaning\n",
    "\n",
    "| Regex pattern | Explanation | Example |\n",
    "| --- | --- | --- |\n",
    "| ^ | Identifies the beginning of a line | re.search(\"^two\",\"two dogs\") |\n",
    "| \\$ | Idenfities the end of a line | re.search(\"$two\",\"two dogs\") |\n",
    "| ? | Identifies zero or one occurrences of the preceding element, the element is optional | re.search(\"dok?gs\", \"dogs\") |\n",
    "| * | Identifies zero or more occurrences of the preceding element | re.search(\"do*l*g\", \"doog\") |\n",
    "| + | Identifies one or more occurrences of the preceding element | re.search(\"do+g\", \"dog\") |\n",
    "| - | Is used for ranges | re.search() |\n",
    "| . | Reprsents any character | re.search() |\n",
    "| \\b...\\b | Word boundary. Matches the beginning and end of a word | re.search() |\n",
    "| \\w | Word character. Matches a single word itself | re.search() |\n",
    "\n",
    "\n",
    "#### B - Regex functions\n",
    "| Regex pattern | Explanation |\n",
    "| --- | --- |\n",
    "| re.search(regex, text) | Searches for the defined pattern. Stops at the first occurrence and returns a match object|\n",
    "| re.findall(regex, text) | Returs all matches in the text as a list |\n",
    "| re.fullmatch(regex, text) | Returns a match object only if the string and the regex matches completely at all positions |\n",
    "| re.sub(regex, replace, string) | Replaces a string when a match is found |\n"
   ]
  },
  {
   "cell_type": "markdown",
   "id": "29cfe7cb",
   "metadata": {},
   "source": [
    "### Sources\n",
    "- https://support.bettercloud.com/s/article/Creating-your-own-Custom-Regular-Expression-bc72153\n",
    "- https://macromates.com/manual/en/regular_expressions\n",
    "- Regex course"
   ]
  }
 ],
 "metadata": {
  "kernelspec": {
   "display_name": "Python 3 (ipykernel)",
   "language": "python",
   "name": "python3"
  },
  "language_info": {
   "codemirror_mode": {
    "name": "ipython",
    "version": 3
   },
   "file_extension": ".py",
   "mimetype": "text/x-python",
   "name": "python",
   "nbconvert_exporter": "python",
   "pygments_lexer": "ipython3",
   "version": "3.9.12"
  }
 },
 "nbformat": 4,
 "nbformat_minor": 5
}
