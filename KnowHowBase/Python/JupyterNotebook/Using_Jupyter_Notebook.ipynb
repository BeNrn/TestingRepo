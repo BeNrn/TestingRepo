{
 "cells": [
  {
   "cell_type": "markdown",
   "id": "ade190f2",
   "metadata": {},
   "source": [
    "# Using Jupyter Notebook\n",
    "Although you already knew this stuff, here is a short intro for you."
   ]
  },
  {
   "cell_type": "markdown",
   "id": "d4ba6a3f",
   "metadata": {},
   "source": [
    "### Defining the block type\n",
    "You can define the block type in the header. Code means Code, Markdown means  beautiful, formatted, and especially readable text."
   ]
  },
  {
   "cell_type": "markdown",
   "id": "79bacf4e",
   "metadata": {},
   "source": [
    "### Managing your blocks\n",
    "You can add a block above or below the currently selected block by typing **A** or **B**. \n",
    "But notice, you must first click outside the currently added block to allow you adding blocks.\n",
    "You can see if you correctly selected \"nothing\" if the front stripe turns from green to blue.\n",
    "You can delete a block when you select it \"blue\" and then hit **D** two times.\n",
    "\n",
    "To make your life a little easier, you can use shortcuts. **Y** turns a block into code, **M** turns it into markdown."
   ]
  },
  {
   "cell_type": "markdown",
   "id": "0206ac6e",
   "metadata": {},
   "source": [
    "### Running blocks\n",
    "Wheather it is code or markdown, you must run your block to allow a proper formatting. You can do so by hitting ENTER+STR. If you want to additionally add a new block right below hit ENTER+SHIFT"
   ]
  },
  {
   "cell_type": "markdown",
   "id": "56d78a9e",
   "metadata": {},
   "source": [
    "### Captions\n",
    "Captions are made using the # one or more times followed by a space and the caption. The less # you use, as larger the caption. Let's try this out:\n",
    "\n",
    "# 1 is used\n",
    "## 2 are used\n",
    "### 3 are used\n",
    "#### 4 are used\n",
    "##### 5 are used\n",
    "And this is normal text as comparison."
   ]
  },
  {
   "cell_type": "markdown",
   "id": "270b705a",
   "metadata": {},
   "source": [
    "### Advanced markdown formatting\n",
    "To make your notebook even fancier, you can do some tricks like:\n",
    "- writing things in **bold** using the double * or double _ infront and after the text passage.\n",
    "- writing things in *italic*, use the single * or _.\n",
    "- Make a ~~strikethrough~~ using two ~.\n",
    "- Quote text using the > sign\n",
    "> Quote\n",
    "- Make an extra textblock use triple `.\n",
    "```\n",
    "This is a single\n",
    "text block.\n",
    "```\n",
    "- A [link](https://docs.github.com/en/get-started/writing-on-github/getting-started-with-writing-and-formatting-on-github/basic-writing-and-formatting-syntax) can be created using the alias text in [ ] brackets and the link right below in ( ) brackets.\n",
    "- Images can be added using a ! and then use the alternative text in [ ]. Then the link of the image must follow in ( ). \n",
    "- Lists like this can be created using a - in every new line and then put a single space between the bullet point and the text.\n",
    "1. This works also with numbers\n",
    "- Or why just don't make a nestesd list, utilizing \n",
    "    - the tab \n",
    "        - a bit.  \n",
    "- [ ] A task list can be created using empty [ ] brackets  \n",
    "- [x] or filled brackets using an \"x\" behind a - and a space.  \n",
    "- For making a linebreak, use two space."
   ]
  },
  {
   "cell_type": "markdown",
   "id": "89136ef0",
   "metadata": {},
   "source": [
    "### Now look at the code\n",
    "It's fairly simple. Just type your code like in every other console. Executing code blocks will give you the result, formatted nice and tidy. "
   ]
  },
  {
   "cell_type": "code",
   "execution_count": 9,
   "id": "11f4cd27",
   "metadata": {},
   "outputs": [
    {
     "name": "stdout",
     "output_type": "stream",
     "text": [
      "10\n"
     ]
    }
   ],
   "source": [
    "#do some python stuff\n",
    "a = 10\n",
    "b = a+1\n",
    "print(a)"
   ]
  },
  {
   "cell_type": "markdown",
   "id": "85ea3f58",
   "metadata": {},
   "source": [
    "If the code is already run properly, a number is filled in the brackets folloing \"In\" at the beginning of every code block."
   ]
  },
  {
   "cell_type": "markdown",
   "id": "5263fcf1",
   "metadata": {},
   "source": [
    "### Exporting a juptyter notebook\n",
    "You can look at your notebook using jupyter, you can upload it to GITHub or you can create a HTML file using the *File > Download as* Option."
   ]
  }
 ],
 "metadata": {
  "kernelspec": {
   "display_name": "Python 3 (ipykernel)",
   "language": "python",
   "name": "python3"
  },
  "language_info": {
   "codemirror_mode": {
    "name": "ipython",
    "version": 3
   },
   "file_extension": ".py",
   "mimetype": "text/x-python",
   "name": "python",
   "nbconvert_exporter": "python",
   "pygments_lexer": "ipython3",
   "version": "3.9.12"
  }
 },
 "nbformat": 4,
 "nbformat_minor": 5
}
