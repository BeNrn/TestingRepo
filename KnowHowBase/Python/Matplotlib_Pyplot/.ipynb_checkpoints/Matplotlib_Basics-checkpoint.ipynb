{
 "cells": [
  {
   "cell_type": "markdown",
   "id": "3eedc06f",
   "metadata": {},
   "source": [
    "### Making fancy plots with Matplotlib.pyplot\n",
    "Let's read some test data."
   ]
  },
  {
   "cell_type": "code",
   "execution_count": 17,
   "id": "8877b41e",
   "metadata": {},
   "outputs": [
    {
     "data": {
      "text/html": [
       "<div>\n",
       "<style scoped>\n",
       "    .dataframe tbody tr th:only-of-type {\n",
       "        vertical-align: middle;\n",
       "    }\n",
       "\n",
       "    .dataframe tbody tr th {\n",
       "        vertical-align: top;\n",
       "    }\n",
       "\n",
       "    .dataframe thead th {\n",
       "        text-align: right;\n",
       "    }\n",
       "</style>\n",
       "<table border=\"1\" class=\"dataframe\">\n",
       "  <thead>\n",
       "    <tr style=\"text-align: right;\">\n",
       "      <th></th>\n",
       "      <th>T</th>\n",
       "      <th>Tmax</th>\n",
       "      <th>Tmin</th>\n",
       "      <th>RR</th>\n",
       "    </tr>\n",
       "  </thead>\n",
       "  <tbody>\n",
       "    <tr>\n",
       "      <th>19600101</th>\n",
       "      <td>2.3</td>\n",
       "      <td>4.0</td>\n",
       "      <td>-0.7</td>\n",
       "      <td>1.7</td>\n",
       "    </tr>\n",
       "    <tr>\n",
       "      <th>19600102</th>\n",
       "      <td>2.9</td>\n",
       "      <td>6.0</td>\n",
       "      <td>1.0</td>\n",
       "      <td>1.4</td>\n",
       "    </tr>\n",
       "    <tr>\n",
       "      <th>19600103</th>\n",
       "      <td>3.2</td>\n",
       "      <td>4.1</td>\n",
       "      <td>0.0</td>\n",
       "      <td>6.5</td>\n",
       "    </tr>\n",
       "    <tr>\n",
       "      <th>19600104</th>\n",
       "      <td>2.4</td>\n",
       "      <td>4.1</td>\n",
       "      <td>1.0</td>\n",
       "      <td>0.9</td>\n",
       "    </tr>\n",
       "    <tr>\n",
       "      <th>19600105</th>\n",
       "      <td>0.8</td>\n",
       "      <td>3.0</td>\n",
       "      <td>0.4</td>\n",
       "      <td>8.0</td>\n",
       "    </tr>\n",
       "    <tr>\n",
       "      <th>19600106</th>\n",
       "      <td>-0.3</td>\n",
       "      <td>0.7</td>\n",
       "      <td>-0.5</td>\n",
       "      <td>4.0</td>\n",
       "    </tr>\n",
       "    <tr>\n",
       "      <th>19600107</th>\n",
       "      <td>-0.4</td>\n",
       "      <td>0.2</td>\n",
       "      <td>-1.8</td>\n",
       "      <td>6.5</td>\n",
       "    </tr>\n",
       "    <tr>\n",
       "      <th>19600108</th>\n",
       "      <td>-0.6</td>\n",
       "      <td>0.0</td>\n",
       "      <td>-0.8</td>\n",
       "      <td>2.0</td>\n",
       "    </tr>\n",
       "    <tr>\n",
       "      <th>19600109</th>\n",
       "      <td>-7.8</td>\n",
       "      <td>-0.5</td>\n",
       "      <td>-10.1</td>\n",
       "      <td>0.0</td>\n",
       "    </tr>\n",
       "    <tr>\n",
       "      <th>19600110</th>\n",
       "      <td>-12.4</td>\n",
       "      <td>-7.0</td>\n",
       "      <td>-16.6</td>\n",
       "      <td>0.0</td>\n",
       "    </tr>\n",
       "  </tbody>\n",
       "</table>\n",
       "</div>"
      ],
      "text/plain": [
       "             T  Tmax  Tmin   RR\n",
       "19600101   2.3   4.0  -0.7  1.7\n",
       "19600102   2.9   6.0   1.0  1.4\n",
       "19600103   3.2   4.1   0.0  6.5\n",
       "19600104   2.4   4.1   1.0  0.9\n",
       "19600105   0.8   3.0   0.4  8.0\n",
       "19600106  -0.3   0.7  -0.5  4.0\n",
       "19600107  -0.4   0.2  -1.8  6.5\n",
       "19600108  -0.6   0.0  -0.8  2.0\n",
       "19600109  -7.8  -0.5 -10.1  0.0\n",
       "19600110 -12.4  -7.0 -16.6  0.0"
      ]
     },
     "execution_count": 17,
     "metadata": {},
     "output_type": "execute_result"
    }
   ],
   "source": [
    "import pandas as pd\n",
    "import matplotlib.pyplot as plt\n",
    "\n",
    "data = {\"T\": [2.3, 2.9, 3.2, 2.4, 0.8, -0.3, -0.4, -0.6, -7.8, -12.4],\n",
    "        \"Tmax\" : [4, 6, 4.1, 4.1, 3, 0.7, 0.2, 0, -0.5, -7],\n",
    "        \"Tmin\" : [-0.7, 1, 0, 1, 0.4, -0.5, -1.8, -0.8, -10.1, -16.6],\n",
    "        \"RR\" : [1.7, 1.4, 6.5, 0.9, 8, 4, 6.5, 2, 0, 0]}\n",
    "\n",
    "df = pd.DataFrame(data = data, index = [\"19600101\", \"19600102\", \"19600103\", \"19600104\", \"19600105\", \"19600106\", \"19600107\", \"19600108\", \"19600109\", \"19600110\"])\n",
    "df"
   ]
  },
  {
   "cell_type": "code",
   "execution_count": 18,
   "id": "97747f95",
   "metadata": {},
   "outputs": [
    {
     "data": {
      "text/plain": [
       "[<matplotlib.lines.Line2D at 0x27ce61f4670>,\n",
       " <matplotlib.lines.Line2D at 0x27ce61f40d0>,\n",
       " <matplotlib.lines.Line2D at 0x27ce62a5490>,\n",
       " <matplotlib.lines.Line2D at 0x27ce62a55b0>]"
      ]
     },
     "execution_count": 18,
     "metadata": {},
     "output_type": "execute_result"
    },
    {
     "data": {
      "image/png": "[encoded data removed]",
      "text/plain": [
       "<Figure size 432x288 with 1 Axes>"
      ]
     },
     "metadata": {
      "needs_background": "light"
     },
     "output_type": "display_data"
    }
   ],
   "source": [
    "plt.plot(df)"
   ]
  }
 ],
 "metadata": {
  "kernelspec": {
   "display_name": "Python 3 (ipykernel)",
   "language": "python",
   "name": "python3"
  },
  "language_info": {
   "codemirror_mode": {
    "name": "ipython",
    "version": 3
   },
   "file_extension": ".py",
   "mimetype": "text/x-python",
   "name": "python",
   "nbconvert_exporter": "python",
   "pygments_lexer": "ipython3",
   "version": "3.9.12"
  }
 },
 "nbformat": 4,
 "nbformat_minor": 5
}
