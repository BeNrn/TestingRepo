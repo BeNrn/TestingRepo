{
 "cells": [
  {
   "cell_type": "markdown",
   "metadata": {},
   "source": [
    "# Basic Python formatting\n",
    "The basic formatting in Python is done using the curly brackets **{}**."
   ]
  },
  {
   "cell_type": "markdown",
   "metadata": {},
   "source": [
    "### 1. Concatenate elements to one string"
   ]
  },
  {
   "cell_type": "code",
   "execution_count": 2,
   "metadata": {},
   "outputs": [
    {
     "name": "stdout",
     "output_type": "stream",
     "text": [
      "one two\n",
      "Text in between ONE is also allowed TWO.\n",
      "Or with numbers like 1 and 2\n"
     ]
    }
   ],
   "source": [
    "print(\"{} {}\".format(\"one\", \"two\"))\n",
    "print(\"Text in between {} is also allowed {}.\".format(\"ONE\", \"TWO\"))\n",
    "print(\"Or with numbers like {} and {}\".format(1, 2))"
   ]
  },
  {
   "cell_type": "markdown",
   "metadata": {},
   "source": [
    "### 2. Change the position of the objects using an index"
   ]
  },
  {
   "cell_type": "code",
   "execution_count": 3,
   "metadata": {},
   "outputs": [
    {
     "name": "stdout",
     "output_type": "stream",
     "text": [
      "First SecondElement then FirstElement\n"
     ]
    }
   ],
   "source": [
    "print(\"First {1} then {0}\".format(\"FirstElement\",\"SecondElement\"))"
   ]
  },
  {
   "cell_type": "markdown",
   "metadata": {},
   "source": [
    "### 3. Align the elements (predefine how much space is assigned to them)"
   ]
  },
  {
   "cell_type": "code",
   "execution_count": 4,
   "metadata": {},
   "outputs": [
    {
     "name": "stdout",
     "output_type": "stream",
     "text": [
      "Assign 10 characters and put it at the right end:        one!\n",
      "Assign 10 characters and put it at the left end: one       !\n",
      "Assign 10 characters and mark the gaps: one_______!\n",
      "Assign 10 characters and put it in the center:    one    !\n"
     ]
    }
   ],
   "source": [
    "print(\"Assign 10 characters and put it at the right end: {:>10}!\".format(\"one\"))\n",
    "print(\"Assign 10 characters and put it at the left end: {:10}!\".format(\"one\"))\n",
    "print(\"Assign 10 characters and mark the gaps: {:_<10}!\".format(\"one\"))\n",
    "print(\"Assign 10 characters and put it in the center: {:^10}!\".format(\"one\"))"
   ]
  },
  {
   "cell_type": "markdown",
   "metadata": {},
   "source": [
    "### 4. Truncate an element"
   ]
  },
  {
   "cell_type": "code",
   "execution_count": 5,
   "metadata": {},
   "outputs": [
    {
     "name": "stdout",
     "output_type": "stream",
     "text": [
      "Only returning the first 3 characters: Pyt!\n"
     ]
    }
   ],
   "source": [
    "print(\"Only returning the first 3 characters: {:.3}!\".format(\"Python\"))"
   ]
  },
  {
   "cell_type": "markdown",
   "metadata": {},
   "source": [
    "### 5. Return different number formats"
   ]
  },
  {
   "cell_type": "code",
   "execution_count": 6,
   "metadata": {},
   "outputs": [
    {
     "name": "stdout",
     "output_type": "stream",
     "text": [
      "Return an integer: 42\n",
      "Return a float: 42.440000\n",
      "Padding (assigne a certain amount of space) to an integer:   42.\n",
      "Return a float with at least 6 characters and 2 after the decimal point:  42.45.\n",
      "Again with leading zeros: 042.45.\n"
     ]
    }
   ],
   "source": [
    "print(\"Return an integer: {:d}\".format(42))\n",
    "print(\"Return a float: {:f}\".format(42.44))\n",
    "print(\"Padding (assigne a certain amount of space) to an integer: {:4d}.\".format(42))\n",
    "print(\"Return a float with at least 6 characters and 2 after the decimal point: {:6.2f}.\".format(42.4456))\n",
    "print(\"Again with leading zeros: {:06.2f}.\".format(42.4456))"
   ]
  },
  {
   "cell_type": "markdown",
   "metadata": {},
   "source": [
    "### 6. Named placeholders"
   ]
  },
  {
   "cell_type": "code",
   "execution_count": 7,
   "metadata": {},
   "outputs": [
    {
     "name": "stdout",
     "output_type": "stream",
     "text": [
      "The best in the CAKE is the CHEESE.\n"
     ]
    }
   ],
   "source": [
    "data = {\"first\":\"CHEESE\", \"last\":\"CAKE\"}\n",
    "print(\"The best in the {last} is the {first}.\".format(**data))"
   ]
  },
  {
   "cell_type": "markdown",
   "metadata": {},
   "source": [
    "### 7. Datetime formatting"
   ]
  },
  {
   "cell_type": "code",
   "execution_count": 8,
   "metadata": {},
   "outputs": [
    {
     "name": "stdout",
     "output_type": "stream",
     "text": [
      "2001-02-03 04:05\n"
     ]
    }
   ],
   "source": [
    "from datetime import datetime\n",
    "print(\"{:%Y-%m-%d %H:%M}\".format(datetime(2001,2,3,4,5)))"
   ]
  }
 ],
 "metadata": {
  "kernelspec": {
   "display_name": "Python 3 (ipykernel)",
   "language": "python",
   "name": "python3"
  },
  "language_info": {
   "codemirror_mode": {
    "name": "ipython",
    "version": 3
   },
   "file_extension": ".py",
   "mimetype": "text/x-python",
   "name": "python",
   "nbconvert_exporter": "python",
   "pygments_lexer": "ipython3",
   "version": "3.9.7"
  }
 },
 "nbformat": 4,
 "nbformat_minor": 4
}
