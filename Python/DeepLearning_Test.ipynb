{
 "cells": [
  {
   "cell_type": "markdown",
   "id": "c5a56c56",
   "metadata": {},
   "source": [
    "# Introduction into Deep Learning\n",
    "##### Based on a course from the Hessische Kompetenzzentrum für Hochleistungsrechnen (HKHLR)\n",
    "\n",
    "#### Sources\n",
    "- course from the Hessische Kompetenzzentrum für Hochleistungsrechnen (HKHLR)\n",
    "- https://de.wikipedia.org/wiki/K%C3%BCnstliches_neuronales_Netz\n",
    "- https://en.wikipedia.org/wiki/Neural_network_(machine_learning)#Models\n",
    "- https://ekababisong.org/gcp-ml-seminar/deep-learning/\n",
    "\n",
    "#### About\n",
    "- Introduction to the concepts of neuronal networks\n",
    "- Introduction to the training of neuronal networks\n",
    "- Introduction to the usage of Keras API of TensorFlow\n",
    "\n",
    "### Background\n",
    "In most cases, deep learning techniques are used when large datasets should be analyzed in some way. The most common tasks are classifications (i.e. the categorization of not yet categorized data, for example by aggregation) and regression. The latter is used to predict future trends in the data or current trends where we have no data yet.\n",
    "One way to perform those tasks is the creation of a **deep neural network**.\n",
    "\n",
    "**What is a neural network?**\n",
    "\n",
    "A neural network is an abstaction form of a machine learning process. It is based on the information processing process in a human brain. Consisting of linked brain cells, information were transmitted between the brain cells. A cell transmits the information to the next cell, if its electromagnetic activation level is reached. \n",
    "\n",
    "In an artificial neural network (here just called neural network), the brain cells were represented by \"nodes\", or \"neurons\". Their linking is represented by vectors. If the information processing is tracked between two cells only, it is called a **one layer model**. If the information processing between multiple cells is examined it is called a **multy layer model**. Each cell is represented by one layer. Each model has a starting node and a final output node. Those layers were called **input** and **output layer**. The node layers in between are called **hidden layers** as the state of the information transaction can only be examined at the input and output layer. \n",
    "\n",
    "As more hidden layers a neural network incorporates, as deeper it is. A deep neural network thus, contains a large number of layers  between the input and the output layer. \n",
    "\n",
    "If certain input values are assigned to the input nodes, they process the information using a weighting of the input and than transmit the information to all connected subsequent nodes in the next layer (eighter a hidden or the output layer) where they were processed again until the output layer is reached. In an iterative process, the weights are now adjusted in the learing process until the best solution is found. The weights increasing or decreasing the signal transmission at the nodes.\n",
    "\n",
    "The simplest form is a one layer model, where one input is transmitted into an output layer. Iteratively, the inputs are adjusted by changing the weight at the output until. Doing that, for example, the mean square error between the output values and given target values is minimized, known as the method of least squares. \n",
    "\n",
    "Considering non-linear problems, after the **propagation function** (weighing), an **activation function** is executed which decides if the node is activated and the information is transmitted to the next layer or not. One example for an activation function is the **sigmoid function**. It sorts the input values into large enough to transmit (1) or not large enough (0) and thus, returns binary (only two possible) values.\n",
    "\n",
    "Simple representation:\n",
    "![title](img/DeepLearning2.png)\n",
    "\n",
    "**Prerequisites:**\n",
    "- dataset must contain thoroughly separeated training and testing data\n",
    "\n",
    "**Structure**\n",
    "- a neural network contains of one input layer\n",
    "- 1 to n hidden layer \n",
    "- one output layer\n",
    "\n",
    "### Model structure"
   ]
  },
  {
   "cell_type": "code",
   "execution_count": 2,
   "id": "68078cf9",
   "metadata": {},
   "outputs": [
    {
     "name": "stdout",
     "output_type": "stream",
     "text": [
      "Model: \"sequential\"\n",
      "_________________________________________________________________\n",
      "Layer (type)                 Output Shape              Param #   \n",
      "=================================================================\n",
      "dense (Dense)                (None, 32)                1056      \n",
      "_________________________________________________________________\n",
      "Hidden_Layer (Dense)         (None, 32)                1056      \n",
      "_________________________________________________________________\n",
      "Output_Layer (Dense)         (None, 2)                 66        \n",
      "=================================================================\n",
      "Total params: 2,178\n",
      "Trainable params: 2,178\n",
      "Non-trainable params: 0\n",
      "_________________________________________________________________\n"
     ]
    }
   ],
   "source": [
    "#import libs\n",
    "import tensorflow as tf\n",
    "import tensorflow.keras as keras\n",
    "\n",
    "#create the model\n",
    "def create_model(input_shape, output_classes):\n",
    "    '''\n",
    "    input_shape\n",
    "        Structure of the model\n",
    "    output_classes\n",
    "        How many output categories are allowed?\n",
    "    '''\n",
    "    model = keras.models.Sequential()\n",
    "    #input\n",
    "    model.add(keras.layers.Dense(input_shape = input_shape, units = 32, activation = tf.nn.relu))\n",
    "    #hidden\n",
    "    model.add(keras.layers.Dense(name = 'Hidden_Layer',units = 32, activation = keras.activations.relu))\n",
    "    #output\n",
    "    model.add(keras.layers.Dense(name = 'Output_Layer',units = output_classes, activation = 'sigmoid'))\n",
    "    return model\n",
    "\n",
    "#create an example model\n",
    "model = create_model(input_shape = (32,), output_classes = 2) \n",
    "model.summary() # print a summary of the layers"
   ]
  },
  {
   "cell_type": "markdown",
   "id": "3135e9f3",
   "metadata": {},
   "source": [
    "### Build a basic model\n",
    "Let's take a closer look."
   ]
  },
  {
   "cell_type": "code",
   "execution_count": 4,
   "id": "c4735ad2",
   "metadata": {},
   "outputs": [],
   "source": [
    "#import some libs\n",
    "import tensorflow as tf\n",
    "import tensorflow.keras as keras\n",
    "\n",
    "#visualization and model testing\n",
    "import matplotlib.pyplot as plt\n",
    "import matplotlib.image as mpimg\n",
    "import numpy as np\n",
    "\n",
    "#define input and output shape of the model\n",
    "input_dimension=32\n",
    "output_labels=2\n",
    "\n",
    "#create a method that tests if the model is working using random numbers\n",
    "def test_model(model):\n",
    "    # get random data to test if the model is works\n",
    "    X = np.random.rand(100,input_dimension)\n",
    "    Y = np.random.rand(100,output_labels)\n",
    "    #do some magic (explained below)\n",
    "    model.compile(optimizer=\"SGD\", loss=\"mean_squared_error\")\n",
    "    model.fit(X,Y)\n",
    "\n",
    "    #summary\n",
    "    model.summary()\n",
    "    keras.utils.plot_model(model, to_file='model.png', show_shapes=True, show_layer_names=True)\n",
    "    #graphical view of the model\n",
    "    image = mpimg.imread(\"model.png\")\n",
    "    plt.imshow(image)\n",
    "    plt.show()"
   ]
  },
  {
   "cell_type": "markdown",
   "id": "3ac229c6",
   "metadata": {},
   "source": [
    "Method one from keras: sequential API"
   ]
  },
  {
   "cell_type": "code",
   "execution_count": null,
   "id": "260e4edb",
   "metadata": {},
   "outputs": [],
   "source": []
  }
 ],
 "metadata": {
  "kernelspec": {
   "display_name": "Python 3",
   "language": "python",
   "name": "python3"
  },
  "language_info": {
   "codemirror_mode": {
    "name": "ipython",
    "version": 3
   },
   "file_extension": ".py",
   "mimetype": "text/x-python",
   "name": "python",
   "nbconvert_exporter": "python",
   "pygments_lexer": "ipython3",
   "version": "3.8.10"
  }
 },
 "nbformat": 4,
 "nbformat_minor": 5
}
